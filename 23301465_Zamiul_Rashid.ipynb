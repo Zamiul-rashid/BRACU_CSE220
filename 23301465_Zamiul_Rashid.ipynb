{
 "cells": [
  {
   "cell_type": "markdown",
   "metadata": {
    "id": "YLpnDfK4egmI"
   },
   "source": [
    "**Instructions to Follow (Failing to follow these will result mark deductions).**\n",
    "1. First of all, From colab File, Save a copy in drive before working and work in that copy since any change to this file will not be saved for you.\n",
    "2. You can not use any built-in function except len()\n",
    "\n",
    "3. You can not use any other python collections except array (e.g: tuple, dictionaries etc.).\n",
    "\n",
    "4. We will initialize a new array using numpy library. We have to mention the fixed size during initialization. There might be 4 approaches.\n",
    "\n",
    " i. arr = np.array([None] * 10) #Initializing an array length 10 with values None.\n",
    "\n",
    " ii. arr = np.array([0] * 10) #Initializing an array length 10 with values zero.\n",
    "\n",
    " iii. arr = np.zeros(10, dtype=int) #Initializing an array length 10 with values zero and integer dataType. By default, dtype is float.\n",
    "\n",
    " iv. arr = np.array([10, 20, 30, 40]) #Initializing an array length 4 with the values.\n",
    "\n"
   ]
  },
  {
   "cell_type": "code",
   "execution_count": 10,
   "metadata": {
    "id": "rSkZFFD4ej5o"
   },
   "outputs": [
    {
     "name": "stdout",
     "output_type": "stream",
     "text": [
      "Requirement already satisfied: fhm-unittest in /home/entropy/anaconda3/lib/python3.12/site-packages (1.0.1)\n",
      "Requirement already satisfied: fuzzywuzzy in /home/entropy/anaconda3/lib/python3.12/site-packages (0.18.0)\n"
     ]
    }
   ],
   "source": [
    "# You must run this cell to install dependency\n",
    "! pip3 install fhm-unittest\n",
    "! pip3 install fuzzywuzzy\n",
    "import fhm_unittest as unittest\n",
    "import numpy as np"
   ]
  },
  {
   "cell_type": "markdown",
   "metadata": {
    "id": "z-BkkdfjgR6P"
   },
   "source": [
    "You will see the status Accepted after completion if your code is correct.\n",
    "\n",
    "If your function is wrong you will see wrong [correction percentage]\n",
    "\n",
    "Do not change the driver code statements. You can only change the input values to test your code."
   ]
  },
  {
   "cell_type": "code",
   "execution_count": 11,
   "metadata": {
    "id": "fknrEodfUb5M"
   },
   "outputs": [],
   "source": [
    "#You must run this cell to print matrix and for the driver code to work\n",
    "def print_matrix(m):\n",
    "  row,col = m.shape\n",
    "  for i in range(row):\n",
    "    c = 1\n",
    "    print('|', end='')\n",
    "    for j in range(col):\n",
    "      c += 1\n",
    "      if(len(str(m[i][j])) == 1):\n",
    "        print(' ',m[i][j], end = '  |')\n",
    "        c += 6\n",
    "      else:\n",
    "        print(' ',m[i][j], end = ' |')\n",
    "        c += 6\n",
    "    print()\n",
    "    print('-'*(c-col))\n",
    "\n"
   ]
  },
  {
   "cell_type": "code",
   "execution_count": 12,
   "metadata": {
    "id": "ZVbY0rzKgRgC"
   },
   "outputs": [
    {
     "name": "stdout",
     "output_type": "stream",
     "text": [
      "///  Task 01: Merge Lineup  ///\n",
      "None\n",
      "None\n",
      "[12  3 28 -8  5]\n",
      "Task 1: [12  3 28 -8  5]\n",
      "Accepted\n",
      "None\n",
      "[ 4 17  6 27  2]\n",
      "Task 1: [ 4 17  6 27  2]\n",
      "Accepted\n"
     ]
    }
   ],
   "source": [
    "#Task 01: Merge Lineup\n",
    "def mergeLineup(pokemon_1, pokemon_2):\n",
    "  arr1 = np.zeros(len(pokemon_1) , dtype=int)\n",
    "  pointer1 = 0 \n",
    "#   pointer2 = (len(pokemon_1)-pointer1)-1\n",
    "  temp1 = 0 ; temp2 = 0 \n",
    "  while pointer1 != len(pokemon_1):\n",
    "    pointer2 = (len(pokemon_1)-pointer1)-1\n",
    "    if pokemon_1[pointer1] == None :\n",
    "      temp1 = 0 \n",
    "    else:\n",
    "      temp1 = pokemon_1[pointer1]\n",
    "    #   print(\"is here1\")\n",
    "      \n",
    "    if pokemon_2[pointer2] == None :\n",
    "      temp2 = 0 \n",
    "      print(pokemon_2[pointer2])\n",
    "    else:\n",
    "      temp2 = pokemon_2[pointer2]\n",
    "    #   print(\"is here2\")\n",
    "    # print(temp1 , temp2 )\n",
    "    arr1[pointer1] = temp1 + temp2 \n",
    "\n",
    "    temp1 , temp2 = 0 , 0\n",
    "    pointer1+=1\n",
    "    # pointer1 -= 1\n",
    "  print (arr1)\n",
    "  return(arr1)\n",
    "\n",
    "print(\"///  Task 01: Merge Lineup  ///\")\n",
    "pokemon_1 = np.array([12, 3, 25, 1, None])\n",
    "pokemon_2 = np.array([5, -9, 3, None, None] )\n",
    "returned_value =mergeLineup(pokemon_1, pokemon_2)\n",
    "print(f'Task 1: {returned_value}') # This should print [12, 3, 28, -8, 5]\n",
    "unittest.output_test(returned_value, np.array([12, 3, 28, -8, 5]))\n",
    "pokemon_1 = np.array([4, 5, -1, None, None])\n",
    "pokemon_2 = np.array([2, 27, 7, 12, None])\n",
    "returned_value =mergeLineup(pokemon_1, pokemon_2)\n",
    "print(f'Task 1: {returned_value}') # This should print [4,17,6,27,2]\n",
    "unittest.output_test(returned_value, np.array([4,17,6,27,2]))"
   ]
  },
  {
   "cell_type": "code",
   "execution_count": 13,
   "metadata": {
    "id": "rzaysRSshRbM"
   },
   "outputs": [
    {
     "name": "stdout",
     "output_type": "stream",
     "text": [
      "///  Task 02: Discard Cards  ///\n",
      "Task 2: [1 3 7 5 2 2 0 0 0]\n",
      "Accepted\n",
      "Task 2: [5 0 0 0 0]\n",
      "Accepted\n"
     ]
    }
   ],
   "source": [
    "# Task 02: Discard Cards\n",
    "def discardCards(cards, t):\n",
    "    count = 0\n",
    "    length = len(cards)\n",
    "\n",
    "    i = 0\n",
    "    while i < length:\n",
    "        if cards[i] == t:\n",
    "            count += 1\n",
    "            if count % 2 != 0:\n",
    "                for j in range(i, length - 1):\n",
    "                  cards[j] = cards[j + 1]\n",
    "                cards[length - 1] = 0 \n",
    "                continue\n",
    "        i += 1\n",
    "\n",
    "    return cards\n",
    "\n",
    "\n",
    "print(\"///  Task 02: Discard Cards  ///\")\n",
    "cards = np.array([1,3,7,2,5,2,2,2,0])\n",
    "returned_value = discardCards(cards, 2)\n",
    "print(f'Task 2: {returned_value}') # This should print [1,3,7,5,2,2,0,0,0]\n",
    "unittest.output_test(returned_value, np.array([1,3,7,5,2,2,0,0,0]))\n",
    "\n",
    "cards = np.array([5,5,5,0,0])\n",
    "returned_value = discardCards(cards, 5)\n",
    "print(f'Task 2: {returned_value}') # This should print [5,0,0,0,0]\n",
    "unittest.output_test(returned_value, np.array([5,0,0,0,0]))"
   ]
  },
  {
   "cell_type": "code",
   "execution_count": 14,
   "metadata": {
    "id": "mxufE5rfVEJM"
   },
   "outputs": [
    {
     "name": "stdout",
     "output_type": "stream",
     "text": [
      "[-13   1]\n"
     ]
    }
   ],
   "source": [
    "#Task 03: Decryption Process\n",
    "\n",
    "def decrypt_matrix(matrix):\n",
    "  rows , col = np.shape(matrix)\n",
    "  l = 0 \n",
    "  sum = 0 \n",
    "  ret = np.zeros(col , dtype= int)\n",
    "  ret1 = np.zeros(col-1 , dtype= int)\n",
    "\n",
    "  \n",
    "  while l<col:\n",
    "    for j in range(rows):\n",
    "      sum+= matrix[j][l]\n",
    "    ret[l] = sum\n",
    "    l+=1\n",
    "    # print(ret)\n",
    "    # print(sum)\n",
    "    sum = 0 \n",
    "  for i in range(0,len(ret)-1):\n",
    "      ret1[i] = (ret[i+1]-ret[i])\n",
    "      # print(ret[i])\n",
    "  # ret[ret(ret)-1]= 0\n",
    "  return(ret1)\n",
    "     \n",
    "matrix=np.array([[1,3,1],\n",
    "                 [6,4,2],\n",
    "                 [5,1,7],\n",
    "                 [9,3,3],\n",
    "                 [8,5,4]\n",
    "                 ])\n",
    "\n",
    "returned_array=decrypt_matrix(matrix)\n",
    "print(returned_array)\n",
    "#This should print [-13, 1]"
   ]
  },
  {
   "cell_type": "code",
   "execution_count": null,
   "metadata": {
    "id": "CYtNF5M8itbB"
   },
   "outputs": [
    {
     "name": "stdout",
     "output_type": "stream",
     "text": [
      "|  3  |  8  |  4  |  6  |  1  |\n",
      "-------------------------------\n",
      "|  7  |  2  |  1  |  9  |  3  |\n",
      "-------------------------------\n",
      "|  9  |  0  |  7  |  5  |  8  |\n",
      "-------------------------------\n",
      "|  2  |  1  |  3  |  4  |  0  |\n",
      "-------------------------------\n",
      "|  1  |  4  |  2  |  8  |  6  |\n",
      "-------------------------------\n",
      "Walking Sequence:\n",
      "3 9 1 \n",
      "1 2 \n",
      "4 7 2 \n",
      "4 9 \n",
      "1 8 6 \n",
      "################\n",
      "|  3  |  8  |  4  |  6  |  1  |\n",
      "-------------------------------\n",
      "|  7  |  2  |  1  |  9  |  3  |\n",
      "-------------------------------\n",
      "|  9  |  0  |  7  |  5  |  8  |\n",
      "-------------------------------\n",
      "|  2  |  1  |  3  |  4  |  0  |\n",
      "-------------------------------\n",
      "Walking Sequence:\n",
      "3 9 \n",
      "1 2 \n",
      "4 7 \n",
      "4 9 \n",
      "1 8 \n"
     ]
    }
   ],
   "source": [
    "# Task 04: Zigzag Walk\n",
    "\n",
    "def walk_zigzag(floor):\n",
    "  rows , col = floor.shape\n",
    "  flag = 0 \n",
    "  # list1, list2 = np.zeros(col, dtype=int), np.zeros(col, dtype=int)\n",
    "  # output= ''\n",
    "  while flag < col:\n",
    "    if flag%2 == 0:\n",
    "      for i in range(rows):\n",
    "        if i ==0 :\n",
    "          print(floor[i][flag] , end= \" \")\n",
    "        elif i%2 == 0:\n",
    "          print(floor[i][flag], end= \" \")\n",
    "      print()\n",
    "    elif flag%2!=0:\n",
    "      # print(\"here\")\n",
    "      for i in range(rows-1 ,-1, -1):\n",
    "        if i%2 != 0:\n",
    "          print(floor[i][flag], end=\" \")\n",
    "      print()\n",
    "    flag+=1 \n",
    "      \n",
    "        \n",
    "      \n",
    "\n",
    "\n",
    "floor = np.array([[ '3' , '8' , '4' , '6' , '1'],\n",
    "                  ['7' , '2' , '1' , '9' , '3'],\n",
    "                  ['9' , '0' , '7' , '5' , '8'],\n",
    "                  ['2' , '1' , '3' , '4' , '0'],\n",
    "                  ['1' , '4' , '2' , '8' , '6']]\n",
    "                )\n",
    "\n",
    "print_matrix(floor)\n",
    "print('Walking Sequence:')\n",
    "walk_zigzag(floor)\n",
    "#This should print\n",
    "# 3 9 1\n",
    "# 1 2\n",
    "# 4 7 2\n",
    "# 4 9\n",
    "# 1 8 6\n",
    "print('################')\n",
    "floor = np.array([[ '3' , '8' , '4' , '6' , '1'],\n",
    "                  ['7' , '2' , '1' , '9' , '3'],\n",
    "                  ['9' , '0' , '7' , '5' , '8'],\n",
    "                  ['2' , '1' , '3' , '4' , '0']]\n",
    "                )\n",
    "\n",
    "print_matrix(floor)\n",
    "print('Walking Sequence:')\n",
    "walk_zigzag(floor)\n",
    "#This should print\n",
    "# 3 9\n",
    "# 1 2\n",
    "# 4 7\n",
    "# 4 9\n",
    "# 1 8"
   ]
  },
  {
   "cell_type": "code",
   "execution_count": 16,
   "metadata": {
    "id": "SzBe-ByVmV8G"
   },
   "outputs": [
    {
     "name": "stdout",
     "output_type": "stream",
     "text": [
      "|  A  |  B  |  C  |  D  |  E  |\n",
      "-------------------------------\n",
      "|  F  |  G  |  H  |  I  |  J  |\n",
      "-------------------------------\n",
      "|  K  |  L  |  M  |  N  |  O  |\n",
      "-------------------------------\n",
      "|  P  |  Q  |  R  |  S  |  T  |\n",
      "-------------------------------\n",
      "|  U  |  V  |  W  |  X  |  Y  |\n",
      "-------------------------------\n",
      "|  Z  |  AA |  BB |  CC |  DD |\n",
      "-------------------------------\n",
      "\n",
      "|  P  |  Q  |  R  |  S  |  T  |\n",
      "-------------------------------\n",
      "|  U  |  V  |  W  |  X  |  Y  |\n",
      "-------------------------------\n",
      "|  Z  |  AA |  BB |  CC |  DD |\n",
      "-------------------------------\n",
      "|  A  |  B  |  C  |  D  |  E  |\n",
      "-------------------------------\n",
      "|  F  |  G  |  H  |  I  |  J  |\n",
      "-------------------------------\n",
      "|  K  |  L  |  M  |  N  |  O  |\n",
      "-------------------------------\n",
      "Your friend AA will be on row 3\n"
     ]
    }
   ],
   "source": [
    "# Task 05: Row Rotation Policy of BRACU Classroom\n",
    "def row_rotation(exam_week, seat_status):\n",
    "    rows, cols = seat_status.shape\n",
    "    #\n",
    "    rotated_status = np.array([[\"hello\"] * cols] * rows, dtype=str)\n",
    "    \n",
    "\n",
    "    for i in range(rows):\n",
    "        n_r_p = (i + exam_week) % rows\n",
    "        rotated_status[n_r_p] = seat_status[i]\n",
    "    \n",
    "\n",
    "    row_number = None\n",
    "    for i in range(rows):\n",
    "        for j in range(cols):\n",
    "            if rotated_status[i][j] == 'AA':\n",
    "                row_number = i + 1 \n",
    "    print_matrix(rotated_status)\n",
    "    \n",
    "    return row_number\n",
    "\n",
    "\n",
    "seat_status = np.array([[ 'A' , 'B' , 'C' , 'D' , 'E'],\n",
    "                  ['F' , 'G' , 'H' , 'I' , 'J'],\n",
    "                  ['K' , 'L' , 'M' , 'N' , 'O'],\n",
    "                  ['P' , 'Q' , 'R' , 'S' , 'T'],\n",
    "                  ['U' , 'V' , 'W' , 'X' , 'Y'],\n",
    "                  ['Z' , 'AA' , 'BB' , 'CC' , 'DD']])\n",
    "\n",
    "\n",
    "exam_week=3\n",
    "print_matrix(seat_status)\n",
    "print()\n",
    "row_number=row_rotation(exam_week, seat_status) #This should print modified seat status after rotation\n",
    "print(f'Your friend AA will be on row {row_number}') #This should print Your friend AA will be on row 2"
   ]
  },
  {
   "cell_type": "code",
   "execution_count": 17,
   "metadata": {
    "id": "Oi7AXojBEayT"
   },
   "outputs": [
    {
     "name": "stdout",
     "output_type": "stream",
     "text": [
      "|  1  |  2  |  3  |  4  |\n",
      "-------------------------\n",
      "|  5  |  6  |  7  |  8  |\n",
      "-------------------------\n",
      "|  1  |  3  |  5  |  2  |\n",
      "-------------------------\n",
      "|  -2 |  0  |  6  |  -3 |\n",
      "-------------------------\n",
      "...............\n",
      "|  14 |  22 |\n",
      "-------------\n",
      "|  2  |  10 |\n",
      "-------------\n"
     ]
    }
   ],
   "source": [
    "#Task 06: Matrix Compression\n",
    "\n",
    "def compress_matrix(mat):\n",
    "    lenth = len(mat)\n",
    "    sum = 0 \n",
    "    ret_array = np.zeros((lenth//2,lenth//2), dtype = int)\n",
    "    # print(ret_array)\n",
    "    for r in range(0 , lenth , 2):\n",
    "      # print(r,r+1)\n",
    "      for c in range(0, lenth , 2):\n",
    "        sum =(mat[r][c] + mat[r][c+1] +\n",
    "                       mat[r+1][c] + mat[r+1][c+1])\n",
    "        ret_array[r//2][c//2] = sum        # print(r,r+1)\n",
    "        # print('------')\n",
    "        # print(c , c+1)\n",
    "        # print('------')\n",
    "        # print(sum)\n",
    "    return ret_array\n",
    "matrix=np.array([[1,2,3,4],\n",
    "                 [5,6,7,8],\n",
    "                 [1,3,5,2],\n",
    "                 [-2,0,6,-3]\n",
    "                 ])\n",
    "print_matrix(matrix)\n",
    "print(\"...............\")\n",
    "returned_array=compress_matrix(matrix)\n",
    "print_matrix(returned_array)\n",
    "#This should print\n",
    "\n",
    "#|  14  |  22 |\n",
    "#--------------\n",
    "#|  2  |  10  |\n",
    "#--------------"
   ]
  },
  {
   "cell_type": "code",
   "execution_count": 18,
   "metadata": {
    "id": "sTJ7GNezm6uu"
   },
   "outputs": [
    {
     "name": "stdout",
     "output_type": "stream",
     "text": [
      ".....................\n",
      "|  0  |  2  |  2  |  0  |  2  |\n",
      "-------------------------------\n",
      "|  1  |  50 |  2  |  1  |  100 |\n",
      "-------------------------------\n",
      "|  2  |  2  |  2  |  0  |  2  |\n",
      "-------------------------------\n",
      "|  0  |  200 |  2  |  0  |  0  |\n",
      "-------------------------------\n",
      "Points Gained: 14. Your team has survived the game.\n"
     ]
    }
   ],
   "source": [
    "#Task 07: Game Arena\n",
    "def play_game(arena):\n",
    "    rows = len(arena)\n",
    "    cols = len(arena[0])\n",
    "    total_points = 0\n",
    "\n",
    "    for i in range(rows):\n",
    "        for j in range(cols):\n",
    "            cell_value = (arena[i][j])\n",
    "            if cell_value >= 50 and cell_value % 50 == 0:\n",
    "                points = 0\n",
    "                if i > 0 and arena[i-1][j] == 2:\n",
    "                    points += 1\n",
    "                if i < rows-1 and arena[i+1][j] == 2:\n",
    "                    points += 1\n",
    "                if j > 0 and arena[i][j-1] == 2:\n",
    "                    points += 1\n",
    "                if j < cols-1 and arena[i][j+1] == 2:\n",
    "                    points += 1\n",
    "                total_points += points * 2\n",
    "    if total_points >= 10:\n",
    "        print(f\"Points Gained: {total_points}. Your team has survived the game.\")\n",
    "    else:\n",
    "        print(f\"Points Gained: {total_points}. Your team is out.\")\n",
    "print(\".....................\")\n",
    "arena=np.array([[0,2,2,0,2],\n",
    "                [1,50,2,1,100],\n",
    "                [2,2,2,0,2],\n",
    "                [0,200,2,0,0]\n",
    "                ])\n",
    "print_matrix(arena)\n",
    "play_game(arena)\n",
    "#This should print\n",
    "#Points Gained: 14. Your team has survived the game."
   ]
  }
 ],
 "metadata": {
  "colab": {
   "provenance": []
  },
  "kernelspec": {
   "display_name": "base",
   "language": "python",
   "name": "python3"
  },
  "language_info": {
   "codemirror_mode": {
    "name": "ipython",
    "version": 3
   },
   "file_extension": ".py",
   "mimetype": "text/x-python",
   "name": "python",
   "nbconvert_exporter": "python",
   "pygments_lexer": "ipython3",
   "version": "3.12.4"
  }
 },
 "nbformat": 4,
 "nbformat_minor": 0
}
