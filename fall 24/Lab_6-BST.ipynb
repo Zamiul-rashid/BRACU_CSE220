{
 "cells": [
  {
   "cell_type": "code",
   "execution_count": 35,
   "metadata": {
    "id": "D6vC520OPeTa"
   },
   "outputs": [],
   "source": [
    "class BTNode:\n",
    "  def __init__(self, elem):\n",
    "    self.elem = elem\n",
    "    self.right = None\n",
    "    self.left = None"
   ]
  },
  {
   "cell_type": "code",
   "execution_count": 36,
   "metadata": {
    "id": "UDTKlm4-PfNM"
   },
   "outputs": [],
   "source": [
    "def inorder(root):\n",
    "  if root == None:\n",
    "    return\n",
    "\n",
    "  inorder(root.left)\n",
    "  print(root.elem, end = ' ')\n",
    "  inorder(root.right)"
   ]
  },
  {
   "cell_type": "code",
   "execution_count": 37,
   "metadata": {
    "id": "Rtc22SPzPgzM"
   },
   "outputs": [
    {
     "name": "stdout",
     "output_type": "stream",
     "text": [
      "H D B E A I F J C G k "
     ]
    }
   ],
   "source": [
    "def tree_construction(arr, i = 1):\n",
    "  if i>=len(arr) or arr[i] == None:\n",
    "    return None\n",
    "  p = BTNode(arr[i])\n",
    "  p.left = tree_construction(arr, 2*i)\n",
    "  p.right = tree_construction(arr, 2*i+1)\n",
    "  return p\n",
    "\n",
    "\n",
    "root2 = tree_construction([None, 'A', 'B', 'C', 'D', 'E', 'F', 'G', 'H', None, None, None, 'I', 'J', None, 'k'])\n",
    "inorder(root2)"
   ]
  },
  {
   "cell_type": "markdown",
   "metadata": {
    "id": "S2nNCJNhPqGq"
   },
   "source": [
    "Task 1"
   ]
  },
  {
   "cell_type": "code",
   "execution_count": 38,
   "metadata": {
    "id": "zbBHU3FoPieb"
   },
   "outputs": [
    {
     "name": "stdout",
     "output_type": "stream",
     "text": [
      "Testing LCA function:\n",
      "LCA(6, 12) = 10\n",
      "LCA(20, 6) = 15\n",
      "LCA(18, 22) = 20\n",
      "LCA(20, 25) = 25\n",
      "LCA(10, 12) = 10\n"
     ]
    }
   ],
   "source": [
    "def LCA(root, x, y):\n",
    "\n",
    "    if root is None or root.elem == x or root.elem == y:\n",
    "        return root\n",
    "  \n",
    "    if x < root.elem and y < root.elem:\n",
    "        return LCA(root.left, x, y)\n",
    "\n",
    "    if x > root.elem and y > root.elem:\n",
    "        return LCA(root.right, x, y)\n",
    "\n",
    "    return root\n",
    "\n",
    "root = BTNode(15)\n",
    "\n",
    "# Left subtree\n",
    "root.left = BTNode(10)\n",
    "root.left.left = BTNode(8)\n",
    "root.left.right = BTNode(12)\n",
    "root.left.left.left = BTNode(6)\n",
    "root.left.left.right = BTNode(9)\n",
    "\n",
    "# Right subtree\n",
    "root.right = BTNode(25)\n",
    "root.right.left = BTNode(20)\n",
    "root.right.right = BTNode(30)\n",
    "root.right.left.left = BTNode(18)\n",
    "root.right.left.right = BTNode(22)\n",
    "\n",
    "test_cases = [\n",
    "    (6, 12),   # Expected: 10\n",
    "    (20, 6),   # Expected: 15\n",
    "    (18, 22),  # Expected: 20\n",
    "    (20, 25),  # Expected: 25\n",
    "    (10, 12)   # Expected: 10\n",
    "]\n",
    "\n",
    "\n",
    "def test_lca():\n",
    "    print(\"Testing LCA function:\")\n",
    "    for x, y in test_cases:\n",
    "        lca_node = LCA(root, x, y)\n",
    "        print(f\"LCA({x}, {y}) = {lca_node.elem}\")\n",
    "\n",
    "test_lca()"
   ]
  },
  {
   "cell_type": "markdown",
   "metadata": {
    "id": "c-TBf3m0PrtK"
   },
   "source": [
    "Task 2"
   ]
  },
  {
   "cell_type": "code",
   "execution_count": 39,
   "metadata": {
    "id": "i6l-v7k1eE9A"
   },
   "outputs": [
    {
     "name": "stdout",
     "output_type": "stream",
     "text": [
      "[15]\n",
      "No Path Found\n"
     ]
    }
   ],
   "source": [
    "\n",
    "def find_height(root):\n",
    "    if root is None:\n",
    "        return 0\n",
    "    return max(find_height(root.left), find_height(root.right)) + 1\n",
    "\n",
    "def find_Path(root, key):\n",
    "    path = [None] * find_height(root)\n",
    "\n",
    "    def helper(node, key, index):\n",
    "        if node is None:\n",
    "            return False\n",
    "\n",
    "        path[index] = node.elem\n",
    "\n",
    "        if node.elem == key:\n",
    "            return True\n",
    "\n",
    "        if helper(node.left, key, index + 1) or helper(node.right, key, index + 1):\n",
    "            return True\n",
    "        path[index] = None\n",
    "        return False\n",
    "\n",
    "    if helper(root, key, 0):\n",
    "        x = []\n",
    "        for i in path:\n",
    "            if i is None:\n",
    "                break\n",
    "            x += [i]\n",
    "        return x\n",
    "    else:\n",
    "        return \"No Path Found\"\n",
    "\n",
    "# DRIVER CODE\n",
    "# Write by yourself from the given tree\n",
    "print(find_Path(root, 15))\n",
    "# This should print [30,10,15]\n",
    "\n",
    "print(find_Path(root, 50))\n",
    "# This should print No Path Found"
   ]
  },
  {
   "cell_type": "markdown",
   "metadata": {
    "id": "7r3lH3aWPz2d"
   },
   "source": [
    "Task 3"
   ]
  },
  {
   "cell_type": "code",
   "execution_count": 40,
   "metadata": {
    "id": "5eT12zYb8zm7"
   },
   "outputs": [
    {
     "name": "stdout",
     "output_type": "stream",
     "text": [
      "108\n"
     ]
    }
   ],
   "source": [
    "def sum_of_leaves(root, sum):\n",
    "    if root is None:\n",
    "        return sum\n",
    "    if root.left is None and root.right is None:\n",
    "        return sum + root.elem\n",
    "    left_sum = sum_of_leaves(root.left, sum)\n",
    "    right_sum = sum_of_leaves(root.right, sum)\n",
    "    \n",
    "    return left_sum + right_sum\n",
    "\n",
    "root = BTNode(30)\n",
    "root.left = BTNode(10)\n",
    "root.right = BTNode(40)\n",
    "\n",
    "root.left.left = BTNode(3)\n",
    "root.left.right = BTNode(15)\n",
    "\n",
    "root.right.left = BTNode(35)\n",
    "root.right.right = BTNode(55)\n",
    "\n",
    "root.left.left.left = BTNode(2)\n",
    "root.right.left.right = BTNode(36)\n",
    "\n",
    "print(sum_of_leaves(root, 0))"
   ]
  },
  {
   "cell_type": "markdown",
   "metadata": {
    "id": "5KeA-BoC3uOo"
   },
   "source": [
    "Task 4"
   ]
  },
  {
   "cell_type": "code",
   "execution_count": 41,
   "metadata": {},
   "outputs": [],
   "source": [
    "def get_rightmost(node):\n",
    "    current = node\n",
    "    while current.right:\n",
    "        current = current.right\n",
    "    return current"
   ]
  },
  {
   "cell_type": "code",
   "execution_count": 42,
   "metadata": {
    "id": "zFwP64v4Pu6d"
   },
   "outputs": [
    {
     "name": "stdout",
     "output_type": "stream",
     "text": [
      "Given Tree Inorder Traversal:  4 8 10 12 14 20 22 \n",
      "Inorder predecessor of node 20: 14\n",
      "Inorder predecessor of node 14: 12\n",
      "Inorder predecessor of node 10: 8\n"
     ]
    }
   ],
   "source": [
    "def inorder_predecessor(root, x):\n",
    "  if x.left:\n",
    "      return get_rightmost(x.left)\n",
    "  predecessor = None\n",
    "  current = root\n",
    "  \n",
    "  while current is not None:\n",
    "      if x.elem > current.elem:\n",
    "          predecessor = current\n",
    "          current = current.right\n",
    "      elif x.elem < current.elem:\n",
    "          current = current.left\n",
    "      else:\n",
    "          break\n",
    "          \n",
    "  return predecessor\n",
    "#DRIVER CODE\n",
    "root = BTNode(20)\n",
    "n1 = BTNode(8)\n",
    "n2 = BTNode(22)\n",
    "n3 = BTNode(4)\n",
    "n4 = BTNode(12)\n",
    "n5 = BTNode(10)\n",
    "n6 = BTNode(14)\n",
    "\n",
    "root.left = n1\n",
    "root.right = n2\n",
    "\n",
    "n1.left = n3\n",
    "n1.right = n4\n",
    "\n",
    "n4.left = n5\n",
    "n4.right = n6\n",
    "\n",
    "print('Given Tree Inorder Traversal: ', end = ' ')\n",
    "inorder(root) #Given Tree Inorder Traversal:  4 8 10 12 14 20 22\n",
    "print()\n",
    "\n",
    "x = root\n",
    "print(f'Inorder predecessor of node {x.elem}: {inorder_predecessor(root, x).elem}') #Inorder predecessor of node 20: 14\n",
    "x = root.left.right.right\n",
    "print(f'Inorder predecessor of node {x.elem}: {inorder_predecessor(root, x).elem}') #Inorder predecessor of node 14: 12\n",
    "x = root.left.right.left\n",
    "print(f'Inorder predecessor of node {x.elem}: {inorder_predecessor(root, x).elem}') #Inorder predecessor of node 10: 8"
   ]
  }
 ],
 "metadata": {
  "colab": {
   "provenance": [
    {
     "file_id": "1fz-8XVRUO217Jk0i6byqO6CT1k4vtN0y",
     "timestamp": 1701548920850
    }
   ]
  },
  "kernelspec": {
   "display_name": "jupiter_n",
   "language": "python",
   "name": "python3"
  },
  "language_info": {
   "codemirror_mode": {
    "name": "ipython",
    "version": 3
   },
   "file_extension": ".py",
   "mimetype": "text/x-python",
   "name": "python",
   "nbconvert_exporter": "python",
   "pygments_lexer": "ipython3",
   "version": "3.12.7"
  }
 },
 "nbformat": 4,
 "nbformat_minor": 0
}
