{
 "cells": [
  {
   "cell_type": "code",
   "execution_count": 26,
   "metadata": {
    "id": "Pp1R95Pe7ID2"
   },
   "outputs": [
    {
     "name": "stdout",
     "output_type": "stream",
     "text": [
      "Requirement already satisfied: fhm-unittest in /home/entropy/miniconda3/envs/jupiter_n/lib/python3.12/site-packages (1.0.1)\n",
      "Requirement already satisfied: fuzzywuzzy in /home/entropy/miniconda3/envs/jupiter_n/lib/python3.12/site-packages (0.18.0)\n"
     ]
    }
   ],
   "source": [
    "# You must run this cell to install dependency\n",
    "! pip3 install fhm-unittest\n",
    "! pip3 install fuzzywuzzy\n",
    "import fhm_unittest as unittest\n",
    "import numpy as np"
   ]
  },
  {
   "cell_type": "markdown",
   "metadata": {
    "id": "A1zD8GyBKEdA"
   },
   "source": [
    "**Assignment Part 1: Doubly Linked List**"
   ]
  },
  {
   "cell_type": "markdown",
   "metadata": {
    "id": "z4q4a-vSNoII"
   },
   "source": [
    "For Assignment Part 1, you should write your full code in the following cells along with your driver codes on your own."
   ]
  },
  {
   "cell_type": "code",
   "execution_count": 27,
   "metadata": {
    "id": "itoWpG7oNziA"
   },
   "outputs": [],
   "source": [
    "#Assignment Part 1\n",
    "\n",
    "class Patient:\n",
    "  #write a constructor\n",
    "  def __init__(self, id, name, age, bloodgroup, next, prev):\n",
    "    self.id = id\n",
    "    self.name = name\n",
    "    self.age = age\n",
    "    self.bloodgroup = bloodgroup\n",
    "    self.next = next\n",
    "    self.prev = prev"
   ]
  },
  {
   "cell_type": "code",
   "execution_count": 28,
   "metadata": {
    "id": "dNx7zTJ1OZNv"
   },
   "outputs": [],
   "source": [
    "class WRM:\n",
    "\n",
    "    def __init__(self):\n",
    "      self.dh = Patient(None,None,None,None,None,None)\n",
    "      self.dh.next = self.dh\n",
    "      self.dh.prev = self.dh\n",
    "\n",
    " \n",
    "    def registerPatient(self, id, name, age, bloodgroup):\n",
    "      new_patient = Patient(id, name, age, bloodgroup,  None,  None)\n",
    "      last = self.dh.prev\n",
    "      last.next = new_patient\n",
    "      new_patient.prev = last\n",
    "      new_patient.next = self.dh\n",
    "      self.dh.prev = new_patient\n",
    "\n",
    "    def servePatient(self):\n",
    "      if self.dh.next == self.dh:\n",
    "        print(\"No patients to serve.\")\n",
    "        return None\n",
    "      first_patient = self.dh.next\n",
    "      self.dh.next = first_patient.next\n",
    "      first_patient.next.prev = self.dh\n",
    "      return first_patient\n",
    "\n",
    "    def showAllPatient(self):\n",
    "      current = self.dh.next\n",
    "      if current == self.dh:\n",
    "        print(\"No patients in the waiting room.\")\n",
    "        return\n",
    "      while current != self.dh:\n",
    "        print(f\"ID: {current.id}, Name: {current.name}, Age: {current.age}, Blood Group: {current.bloodgroup}\")\n",
    "        current = current.next\n",
    "\n",
    "    def canDoctorGoHome(self):\n",
    "      return self.dh.next == self.dh\n",
    "\n",
    "    def cancelAll(self):\n",
    "      self.dh.next = self.dh\n",
    "      self.dh.prev = self.dh\n",
    "\n",
    "    def ReverseTheLine(self):\n",
    "      current = self.dh\n",
    "      while True:\n",
    "        current.next, current.prev = current.prev, current.next\n",
    "        current = current.prev\n",
    "        if current == self.dh:\n",
    "          break"
   ]
  },
  {
   "cell_type": "code",
   "execution_count": 29,
   "metadata": {
    "id": "jKhbn1LAPfjr"
   },
   "outputs": [
    {
     "name": "stdout",
     "output_type": "stream",
     "text": [
      "**Welcome to Waiting Room Management System**\n",
      "\n",
      "Options:\n",
      "1. Add Patient\n",
      "2. Serve Patient\n",
      "3. Show All Patients\n",
      "4. Can Doctor Go Home?\n",
      "5. Cancel All Appointments\n",
      "6. Reverse The Line\n",
      "7. Exit\n",
      "Exiting...\n"
     ]
    }
   ],
   "source": [
    "print(\"**Welcome to Waiting Room Management System**\")\n",
    "wrm = WRM()\n",
    "\n",
    "while True:\n",
    "    print(\"\\nOptions:\")\n",
    "    print(\"1. Add Patient\")\n",
    "    print(\"2. Serve Patient\")\n",
    "    print(\"3. Show All Patients\")\n",
    "    print(\"4. Can Doctor Go Home?\")\n",
    "    print(\"5. Cancel All Appointments\")\n",
    "    print(\"6. Reverse The Line\")\n",
    "    print(\"7. Exit\")\n",
    "    \n",
    "    choice = int(input(\"Enter your choice: \"))\n",
    "    \n",
    "    if choice == 1:\n",
    "        id = input(\"Enter Patient ID: \")\n",
    "        name = input(\"Enter Patient Name: \")\n",
    "        age = int(input(\"Enter Patient Age: \"))\n",
    "        bloodgroup = input(\"Enter Patient Blood Group: \")\n",
    "        wrm.registerPatient(id, name, age, bloodgroup)\n",
    "        print(\"Patient added successfully.\")\n",
    "    \n",
    "    elif choice == 2:\n",
    "        patient = wrm.servePatient()\n",
    "        if patient:\n",
    "            print(f\"Serving Patient: {patient.name}\")\n",
    "        else:\n",
    "            print(\"No patients to serve.\")\n",
    "    \n",
    "    elif choice == 3:\n",
    "        print(\"Patients in the Waiting Room:\")\n",
    "        wrm.showAllPatient()\n",
    "    \n",
    "    elif choice == 4:\n",
    "        if wrm.canDoctorGoHome():\n",
    "            print(\"Yes\")\n",
    "        else:\n",
    "            print(\"No, there are still patients\")\n",
    "    \n",
    "    elif choice == 5:\n",
    "        wrm.cancelAll()\n",
    "        print(\"Appointments cancelled.\")\n",
    "    \n",
    "    elif choice == 6:\n",
    "        wrm.ReverseTheLine()\n",
    "        print(\"Line has been reversed successfully.\")\n",
    "    \n",
    "    elif choice == 7:\n",
    "        print(\"Exiting...\")\n",
    "        break\n",
    "    \n",
    "    else:\n",
    "        print(\"Invalid choice. Please try again.\")"
   ]
  },
  {
   "cell_type": "code",
   "execution_count": null,
   "metadata": {},
   "outputs": [],
   "source": []
  },
  {
   "cell_type": "markdown",
   "metadata": {
    "id": "CJWd_j6YEnPn"
   },
   "source": [
    "**Assignment Part 2: Stack**\n",
    "\n",
    "Linked List based Stack is implemented in the following cell."
   ]
  },
  {
   "cell_type": "code",
   "execution_count": null,
   "metadata": {
    "id": "KHLhs5x0D-O6"
   },
   "outputs": [],
   "source": [
    "class Node:\n",
    "  def __init__(self,elem=None,next=None):\n",
    "    self.elem = elem\n",
    "    self.next = next\n",
    "\n",
    "class Stack:\n",
    "  def __init__(self):\n",
    "    self.__top = None\n",
    "\n",
    "  def push(self,elem):\n",
    "    nn = Node(elem,self.__top)\n",
    "    self.__top = nn\n",
    "\n",
    "  def pop(self):\n",
    "    if self.__top == None:\n",
    "      return None\n",
    "    e = self.__top\n",
    "    self.__top = self.__top.next\n",
    "    return e.elem\n",
    "\n",
    "  def peek(self):\n",
    "    if self.__top == None:\n",
    "      return None\n",
    "    return self.__top.elem\n",
    "\n",
    "  def isEmpty(self):\n",
    "    return self.__top == None\n"
   ]
  },
  {
   "cell_type": "code",
   "execution_count": 31,
   "metadata": {
    "id": "4XkuMA7gEjE7"
   },
   "outputs": [
    {
     "name": "stdout",
     "output_type": "stream",
     "text": [
      "Peeked Element:  9\n",
      "Popped Element:  9\n",
      "Popped Element:  1\n",
      "Popped Element:  5\n",
      "Peeked Element:  3\n",
      "Popped Element:  3\n",
      "Popped Element:  4\n",
      "Peeked Element:  None\n",
      "Popped Element:  None\n",
      "True\n"
     ]
    }
   ],
   "source": [
    "#You can run this driver code cell to understand the methods of Stack class\n",
    "st = Stack()\n",
    "st.push(4)\n",
    "st.push(3)\n",
    "st.push(5)\n",
    "st.push(1)\n",
    "st.push(9)\n",
    "\n",
    "print('Peeked Element: ',st.peek())\n",
    "print('Popped Element: ',st.pop())\n",
    "print('Popped Element: ',st.pop())\n",
    "print('Popped Element: ',st.pop())\n",
    "print('Peeked Element: ',st.peek())\n",
    "print('Popped Element: ',st.pop())\n",
    "print('Popped Element: ',st.pop())\n",
    "print('Peeked Element: ',st.peek())\n",
    "print('Popped Element: ',st.pop())\n",
    "print(st.isEmpty())"
   ]
  },
  {
   "cell_type": "markdown",
   "metadata": {
    "id": "xrfONLccG9Gi"
   },
   "source": [
    "You can print your stack using this code segment"
   ]
  },
  {
   "cell_type": "code",
   "execution_count": null,
   "metadata": {
    "id": "S-EembO_GsWA"
   },
   "outputs": [],
   "source": [
    "def print_stack(st):\n",
    "  if st.isEmpty():\n",
    "    return\n",
    "  p = st.pop()\n",
    "  print('|',p,end=' ')\n",
    "  if p<10:\n",
    "    print(' |')\n",
    "  else:\n",
    "    print('|')\n",
    "  #print('------')\n",
    "  print_stack(st)\n",
    "  st.push(p)\n",
    "\n",
    "# st = Stack()\n",
    "# st.push(4)\n",
    "# st.push(3)\n",
    "# st.push(5)\n",
    "# st.push(1)\n",
    "# st.push(9)\n",
    "# print_stack(st)\n",
    "# print('------')"
   ]
  },
  {
   "cell_type": "markdown",
   "metadata": {
    "id": "iNMnfqqpIga2"
   },
   "source": [
    "Task 1: Diamond Count"
   ]
  },
  {
   "cell_type": "code",
   "execution_count": 33,
   "metadata": {
    "id": "GnX70OIvG_gZ"
   },
   "outputs": [
    {
     "name": "stdout",
     "output_type": "stream",
     "text": [
      "Test 01\n",
      "Number of Diamonds: 3\n",
      "Accepted\n",
      "-----------------------------------------\n",
      "Test 02\n",
      "Number of Diamonds: 1\n",
      "Accepted\n",
      "-----------------------------------------\n",
      "Test 03\n",
      "Number of Diamonds: 3\n",
      "Accepted\n",
      "-----------------------------------------\n"
     ]
    }
   ],
   "source": [
    "def diamond_count(stack,string):\n",
    "    count = 0\n",
    "    for char in string:\n",
    "      if char == '<':\n",
    "        stack.push(char)\n",
    "      elif char == '>' and not stack.isEmpty():\n",
    "        stack.pop()\n",
    "        count += 1\n",
    "    return count\n",
    "\n",
    "\n",
    "\n",
    "print('Test 01')\n",
    "stack = Stack()\n",
    "string = '<..><.<..>> '\n",
    "returned_value = diamond_count(stack,string)\n",
    "print(f'Number of Diamonds: {returned_value}') #This should print 3\n",
    "unittest.output_test(returned_value, 3)\n",
    "print('-----------------------------------------')\n",
    "\n",
    "\n",
    "print('Test 02')\n",
    "stack = Stack()\n",
    "string = '<<<..<......<<<<....>'\n",
    "returned_value = diamond_count(stack,string)\n",
    "print(f'Number of Diamonds: {returned_value}') #This should print 1\n",
    "unittest.output_test(returned_value, 1)\n",
    "print('-----------------------------------------')\n",
    "\n",
    "\n",
    "print('Test 03')\n",
    "stack = Stack()\n",
    "string = '>>><...<<..>>...>...>>>'\n",
    "returned_value = diamond_count(stack,string)\n",
    "print(f'Number of Diamonds: {returned_value}') #This should print 3\n",
    "unittest.output_test(returned_value, 3)\n",
    "print('-----------------------------------------')"
   ]
  },
  {
   "cell_type": "markdown",
   "metadata": {
    "id": "PhCF3SZ6IX5g"
   },
   "source": [
    "Task 2: Tower of Blocks"
   ]
  },
  {
   "cell_type": "code",
   "execution_count": null,
   "metadata": {
    "id": "W3N4q7YAHExr"
   },
   "outputs": [
    {
     "name": "stdout",
     "output_type": "stream",
     "text": [
      "Test 01\n",
      "Stack:\n",
      "| 5  |\n",
      "| 17 |\n",
      "| 23 |\n",
      "| 19 |\n",
      "| 4  |\n",
      "------\n",
      "After Removal\n",
      "| 5  |\n",
      "| 17 |\n",
      "| 19 |\n",
      "| 4  |\n",
      "------\n",
      "\n",
      "======================================\n",
      "\n",
      "Test 02\n",
      "Stack:\n",
      "| 41 |\n",
      "| 15 |\n",
      "| 85 |\n",
      "| 73 |\n",
      "------\n",
      "After Removal\n",
      "| 41 |\n",
      "| 15 |\n",
      "| 85 |\n",
      "------\n",
      "\n",
      "======================================\n",
      "\n"
     ]
    }
   ],
   "source": [
    "def remove_block(stack, n):\n",
    "    n_st = Stack()\n",
    "    temp = None\n",
    "    count = 0 \n",
    "    while not stack.isEmpty():\n",
    "        if count != n:\n",
    "            n_st.push(stack.pop())\n",
    "        else:\n",
    "            temp = stack.pop()\n",
    "            while not n_st.isEmpty():\n",
    "                stack.push(n_st.pop())\n",
    "            return stack\n",
    "        count+=1\n",
    "\n",
    "    while not n_st.isEmpty():\n",
    "        stack.push(n_st.pop())\n",
    "    \n",
    "    return stack\n",
    "\n",
    "\n",
    "print('Test 01')\n",
    "st = Stack()\n",
    "st.push(4)\n",
    "st.push(19)\n",
    "st.push(23)\n",
    "st.push(17)\n",
    "st.push(5)\n",
    "print('Stack:')\n",
    "print_stack(st)\n",
    "print('------')\n",
    "remove_block(st,2)\n",
    "print('After Removal')\n",
    "print_stack(st)\n",
    "print('------')\n",
    "\n",
    "print()\n",
    "print('======================================')\n",
    "print()\n",
    "\n",
    "print('Test 02')\n",
    "st = Stack()\n",
    "st.push(73)\n",
    "st.push(85)\n",
    "st.push(15)\n",
    "st.push(41)\n",
    "print('Stack:')\n",
    "print_stack(st)\n",
    "print('------')\n",
    "remove_block(st,3)\n",
    "print('After Removal')\n",
    "print_stack(st)\n",
    "print('------')\n",
    "\n",
    "print()\n",
    "print('======================================')\n",
    "print()"
   ]
  },
  {
   "cell_type": "markdown",
   "metadata": {
    "id": "jcngRuqUWOfl"
   },
   "source": [
    "Task 3: Stack Reverse"
   ]
  },
  {
   "cell_type": "code",
   "execution_count": 35,
   "metadata": {
    "id": "gLSgfDKPWPnP"
   },
   "outputs": [
    {
     "name": "stdout",
     "output_type": "stream",
     "text": [
      "Test 01\n",
      "Stack:\n",
      "| 50 |\n",
      "| 10 |\n",
      "| 30 |\n",
      "| 20 |\n",
      "| 20 |\n",
      "| 10 |\n",
      "| 10 |\n",
      "------\n",
      "Conditional Reversed Stack:\n",
      "| 10 |\n",
      "| 20 |\n",
      "| 20 |\n",
      "| 30 |\n",
      "| 10 |\n",
      "| 50 |\n",
      "------\n"
     ]
    }
   ],
   "source": [
    "def conditional_reverse(stack):\n",
    "    st = Stack()\n",
    "    while not stack.isEmpty():\n",
    "        temp1 = stack.pop()\n",
    "        if not stack.isEmpty():\n",
    "            temp2 = stack.pop()\n",
    "            if temp1 == temp2:\n",
    "                st.push(temp2)\n",
    "            else:\n",
    "                st.push(temp1)\n",
    "                st.push(temp2)\n",
    "        else:\n",
    "            st.push(temp1)\n",
    "    x = st.pop()\n",
    "    if stack.pop() == x :\n",
    "       st.push(x)\n",
    "          \n",
    "    return st \n",
    "\n",
    "print('Test 01')\n",
    "st=Stack()\n",
    "st.push(10)\n",
    "st.push(10)\n",
    "st.push(20)\n",
    "st.push(20)\n",
    "st.push(30)\n",
    "st.push(10)\n",
    "st.push(50)\n",
    "print('Stack:')\n",
    "print_stack(st)\n",
    "print('------')\n",
    "reversed_stack=conditional_reverse(st)\n",
    "print('Conditional Reversed Stack:')\n",
    "print_stack(reversed_stack) # This stack contains 50, 10, 30, 20, 10 in this order whereas top element should be 10\n",
    "print('------')\n"
   ]
  },
  {
   "cell_type": "code",
   "execution_count": null,
   "metadata": {},
   "outputs": [],
   "source": []
  }
 ],
 "metadata": {
  "colab": {
   "provenance": []
  },
  "kernelspec": {
   "display_name": "jupiter_n",
   "language": "python",
   "name": "python3"
  },
  "language_info": {
   "codemirror_mode": {
    "name": "ipython",
    "version": 3
   },
   "file_extension": ".py",
   "mimetype": "text/x-python",
   "name": "python",
   "nbconvert_exporter": "python",
   "pygments_lexer": "ipython3",
   "version": "undefined.undefined.undefined"
  }
 },
 "nbformat": 4,
 "nbformat_minor": 0
}
