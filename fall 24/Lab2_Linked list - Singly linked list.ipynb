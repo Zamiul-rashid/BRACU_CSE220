{
 "cells": [
  {
   "cell_type": "markdown",
   "metadata": {
    "id": "4LYYhNdvi03h"
   },
   "source": [
    "\n",
    "\n",
    "1.   Be careful in which question you are required to change the given Linked list and where you are required to create a new one\n",
    "2.   Be careful of the first node and the last node [aka corner cases]\n",
    "3.   Do not use any other data structure other than Linked List\n",
    "\n"
   ]
  },
  {
   "cell_type": "markdown",
   "metadata": {
    "id": "v8m-0O9Pi9ET"
   },
   "source": [
    "**You must run this cell to install dependency**"
   ]
  },
  {
   "cell_type": "code",
   "execution_count": 1,
   "metadata": {
    "colab": {
     "base_uri": "https://localhost:8080/"
    },
    "executionInfo": {
     "elapsed": 17111,
     "status": "ok",
     "timestamp": 1733886518811,
     "user": {
      "displayName": "SYED NAVEED MAHMOOD",
      "userId": "01909330817276838465"
     },
     "user_tz": -360
    },
    "id": "3vZHyMlVi0cs",
    "outputId": "ff46ca7d-aee6-42fc-df3d-89c23c27cad6"
   },
   "outputs": [
    {
     "name": "stdout",
     "output_type": "stream",
     "text": [
      "Requirement already satisfied: fhm-unittest in /home/entropy/miniconda3/envs/jupiter_n/lib/python3.12/site-packages (1.0.1)\n",
      "Requirement already satisfied: fuzzywuzzy in /home/entropy/miniconda3/envs/jupiter_n/lib/python3.12/site-packages (0.18.0)\n",
      "Requirement already satisfied: numpy in /home/entropy/miniconda3/envs/jupiter_n/lib/python3.12/site-packages (2.1.3)\n"
     ]
    },
    {
     "name": "stderr",
     "output_type": "stream",
     "text": [
      "/home/entropy/miniconda3/envs/jupiter_n/lib/python3.12/site-packages/fuzzywuzzy/fuzz.py:11: UserWarning: Using slow pure-python SequenceMatcher. Install python-Levenshtein to remove this warning\n",
      "  warnings.warn('Using slow pure-python SequenceMatcher. Install python-Levenshtein to remove this warning')\n"
     ]
    }
   ],
   "source": [
    "! pip3 install fhm-unittest\n",
    "! pip3 install fuzzywuzzy\n",
    "! pip3 install numpy\n",
    "import fhm_unittest as unittest\n",
    "import numpy as np"
   ]
  },
  {
   "cell_type": "markdown",
   "metadata": {
    "id": "b7eLAb26jNlR"
   },
   "source": [
    "**You must Run this cell for your driver code to execute successfully**"
   ]
  },
  {
   "cell_type": "code",
   "execution_count": 2,
   "metadata": {
    "executionInfo": {
     "elapsed": 39,
     "status": "ok",
     "timestamp": 1733886518812,
     "user": {
      "displayName": "SYED NAVEED MAHMOOD",
      "userId": "01909330817276838465"
     },
     "user_tz": -360
    },
    "id": "Yvtwdm02iNbm"
   },
   "outputs": [],
   "source": [
    "#Run this cell\n",
    "class Node:\n",
    "  def __init__(self,elem,next = None):\n",
    "    self.elem,self.next = elem,next\n",
    "\n",
    "def createList(arr):\n",
    "  head = Node(arr[0])\n",
    "  tail = head\n",
    "  for i in range(1,len(arr)):\n",
    "    newNode = Node(arr[i])\n",
    "    tail.next = newNode\n",
    "    tail = newNode\n",
    "  return head\n",
    "\n",
    "def printLinkedList(head):\n",
    "  temp = head\n",
    "  while temp != None:\n",
    "    if temp.next != None:\n",
    "      print(temp.elem, end = '-->')\n",
    "    else:\n",
    "      print(temp.elem)\n",
    "    temp = temp.next\n",
    "  print()"
   ]
  },
  {
   "cell_type": "code",
   "execution_count": 3,
   "metadata": {
    "executionInfo": {
     "elapsed": 37,
     "status": "ok",
     "timestamp": 1733886518812,
     "user": {
      "displayName": "SYED NAVEED MAHMOOD",
      "userId": "01909330817276838465"
     },
     "user_tz": -360
    },
    "id": "lxYdJnwVblFJ"
   },
   "outputs": [],
   "source": [
    "# def"
   ]
  },
  {
   "cell_type": "markdown",
   "metadata": {
    "id": "YcFhPJxPjcfl"
   },
   "source": [
    "Task 1: Building Blocks"
   ]
  },
  {
   "cell_type": "code",
   "execution_count": 4,
   "metadata": {
    "colab": {
     "base_uri": "https://localhost:8080/"
    },
    "executionInfo": {
     "elapsed": 36,
     "status": "ok",
     "timestamp": 1733886518812,
     "user": {
      "displayName": "SYED NAVEED MAHMOOD",
      "userId": "01909330817276838465"
     },
     "user_tz": -360
    },
    "id": "QU2I53-4jWSo",
    "outputId": "00bae79f-8f20-4d46-f3f8-9478849ea313"
   },
   "outputs": [
    {
     "name": "stdout",
     "output_type": "stream",
     "text": [
      "==============Test Case 1=============\n",
      "Building 1:  Red-->Green-->Yellow-->Red-->Blue-->Green\n",
      "\n",
      "Building 2:  Red-->Green-->Yellow-->Red-->Blue-->Green\n",
      "\n",
      "Similar\n",
      "Accepted\n",
      "\n",
      "==============Test Case 2=============\n",
      "Building 1:  Red-->Green-->Yellow-->Red-->Yellow-->Green\n",
      "\n",
      "Building 2:  Red-->Green-->Yellow-->Red-->Blue-->Green\n",
      "\n",
      "Not Similar\n",
      "Accepted\n",
      "\n",
      "==============Test Case 3=============\n",
      "Building 1:  Red-->Green-->Yellow-->Red-->Blue-->Green\n",
      "\n",
      "Building 2:  Red-->Green-->Yellow-->Red-->Blue-->Green-->Blue\n",
      "\n",
      "Not Similar\n",
      "Accepted\n",
      "\n",
      "==============Test Case 4=============\n",
      "Building 1:  Red-->Green-->Yellow-->Red-->Blue-->Green-->Blue\n",
      "\n",
      "Building 2:  Red-->Green-->Yellow-->Red-->Blue-->Green\n",
      "\n",
      "Not Similar\n",
      "Accepted\n",
      "\n"
     ]
    }
   ],
   "source": [
    "def check_similar(building_1, building_2):\n",
    "  temp1 = building_1\n",
    "  temp2 = building_2\n",
    "  while temp1 != None and temp2 != None:\n",
    "    if temp1.elem != temp2.elem:\n",
    "      return 'Not Similar'\n",
    "    temp1 = temp1.next\n",
    "    temp2 = temp2.next\n",
    "  if temp1 == None and temp2 == None:\n",
    "    return 'Similar'\n",
    "  return 'Not Similar'\n",
    "\n",
    "\n",
    "\n",
    "print('==============Test Case 1=============')\n",
    "building_1 = createList(np.array(['Red', 'Green', 'Yellow', 'Red', 'Blue', 'Green']))\n",
    "building_2 = createList(np.array(['Red', 'Green', 'Yellow', 'Red', 'Blue', 'Green']))\n",
    "print('Building 1: ', end = ' ')\n",
    "printLinkedList(building_1)\n",
    "print('Building 2: ', end = ' ')\n",
    "printLinkedList(building_2)\n",
    "returned_value = check_similar(building_1, building_2)\n",
    "print(returned_value) #This should print 'Similar'\n",
    "unittest.output_test(returned_value, 'Similar')\n",
    "print()\n",
    "\n",
    "print('==============Test Case 2=============')\n",
    "building_1 = createList(np.array(['Red', 'Green', 'Yellow', 'Red', 'Yellow', 'Green']))\n",
    "building_2 = createList(np.array(['Red', 'Green', 'Yellow', 'Red', 'Blue', 'Green']))\n",
    "print('Building 1: ', end = ' ')\n",
    "printLinkedList(building_1)\n",
    "print('Building 2: ', end = ' ')\n",
    "printLinkedList(building_2)\n",
    "returned_value = check_similar(building_1, building_2)\n",
    "print(returned_value) #This should print 'Not Similar'\n",
    "unittest.output_test(returned_value, 'Not Similar')\n",
    "print()\n",
    "\n",
    "print('==============Test Case 3=============')\n",
    "building_1 = createList(np.array(['Red', 'Green', 'Yellow', 'Red', 'Blue', 'Green']))\n",
    "building_2 = createList(np.array(['Red', 'Green', 'Yellow', 'Red', 'Blue', 'Green', 'Blue']))\n",
    "print('Building 1: ', end = ' ')\n",
    "printLinkedList(building_1)\n",
    "print('Building 2: ', end = ' ')\n",
    "printLinkedList(building_2)\n",
    "returned_value = check_similar(building_1, building_2)\n",
    "print(returned_value) #This should print 'Not Similar'\n",
    "unittest.output_test(returned_value, 'Not Similar')\n",
    "print()\n",
    "\n",
    "print('==============Test Case 4=============')\n",
    "building_1 = createList(np.array(['Red', 'Green', 'Yellow', 'Red', 'Blue', 'Green', 'Blue']))\n",
    "building_2 = createList(np.array(['Red', 'Green', 'Yellow', 'Red', 'Blue', 'Green']))\n",
    "print('Building 1: ', end = ' ')\n",
    "printLinkedList(building_1)\n",
    "print('Building 2: ', end = ' ')\n",
    "printLinkedList(building_2)\n",
    "returned_value = check_similar(building_1, building_2)\n",
    "print(returned_value) #This should print 'Not Similar'\n",
    "unittest.output_test(returned_value, 'Not Similar')\n",
    "print()"
   ]
  },
  {
   "cell_type": "markdown",
   "metadata": {
    "id": "KXf5NwHJjrga"
   },
   "source": [
    "Task 2: Remove Compartment"
   ]
  },
  {
   "cell_type": "code",
   "execution_count": 5,
   "metadata": {
    "colab": {
     "base_uri": "https://localhost:8080/"
    },
    "executionInfo": {
     "elapsed": 33,
     "status": "ok",
     "timestamp": 1733886518813,
     "user": {
      "displayName": "SYED NAVEED MAHMOOD",
      "userId": "01909330817276838465"
     },
     "user_tz": -360
    },
    "id": "RZFDGPlGkC9M",
    "outputId": "02003fde-70d4-4dc1-c71d-8feb2160ea87"
   },
   "outputs": [
    {
     "name": "stdout",
     "output_type": "stream",
     "text": [
      "==============Test Case 1=============\n",
      "Original Compartment Sequence:  10-->15-->34-->41-->56-->72\n",
      "\n",
      "Changed Compartment Sequence:  10-->15-->34-->41-->72\n",
      "\n",
      "\n",
      "==============Test Case 2=============\n",
      "Original Compartment Sequence:  10-->15-->34-->41-->56-->72\n",
      "\n",
      "Changed Compartment Sequence:  10-->15-->34-->41-->56-->72\n",
      "\n",
      "\n",
      "==============Test Case 3=============\n",
      "Original Compartment Sequence:  10-->15-->34-->41-->56-->72\n",
      "\n",
      "Changed Compartment Sequence:  15-->34-->41-->56-->72\n",
      "\n",
      "\n"
     ]
    }
   ],
   "source": [
    "def remove_compartment(head, n):\n",
    "    if head is None:\n",
    "        return None\n",
    "\n",
    "    length = 0\n",
    "    temp = head\n",
    "    while temp is not None:\n",
    "        length += 1\n",
    "        temp = temp.next\n",
    "\n",
    "    n = length - n\n",
    "\n",
    "    if n < 0:\n",
    "        return head\n",
    "\n",
    "    count = 0\n",
    "    temp = head\n",
    "    node = None\n",
    "    node1 = None\n",
    "\n",
    "    while temp is not None:\n",
    "        if count == 0 and n == 0:\n",
    "            head = head.next\n",
    "            return head\n",
    "        elif count == n-1:\n",
    "            node1 = temp\n",
    "        if count == n:\n",
    "            node = temp.next\n",
    "        count += 1\n",
    "        temp = temp.next\n",
    "    if node1 is not None:\n",
    "        node1.next = node\n",
    "\n",
    "    return head\n",
    "\n",
    "\n",
    "\n",
    "\n",
    "print('==============Test Case 1=============')\n",
    "head = createList(np.array([10,15,34,41,56,72]))\n",
    "print('Original Compartment Sequence: ', end = ' ')\n",
    "printLinkedList(head)\n",
    "head = remove_compartment(head,2)\n",
    "print('Changed Compartment Sequence: ', end = ' ')\n",
    "printLinkedList(head) #This should print 10-->15-->34-->41-->72\n",
    "print()\n",
    "print('==============Test Case 2=============')\n",
    "head = createList(np.array([10,15,34,41,56,72]))\n",
    "print('Original Compartment Sequence: ', end = ' ')\n",
    "printLinkedList(head)\n",
    "head = remove_compartment(head,7)\n",
    "print('Changed Compartment Sequence: ', end = ' ')\n",
    "printLinkedList(head) #This should print 10-->15-->34-->41-->56-->72\n",
    "print()\n",
    "print('==============Test Case 3=============')\n",
    "head = createList(np.array([10,15,34,41,56,72]))\n",
    "print('Original Compartment Sequence: ', end = ' ')\n",
    "printLinkedList(head)\n",
    "head = remove_compartment(head,6)\n",
    "print('Changed Compartment Sequence: ', end = ' ')\n",
    "printLinkedList(head) #This should print 15-->34-->41-->56-->72\n",
    "print()"
   ]
  },
  {
   "cell_type": "markdown",
   "metadata": {
    "id": "1ru-53ewkgET"
   },
   "source": [
    "Task 3: Assemble Conga Line"
   ]
  },
  {
   "cell_type": "code",
   "execution_count": 6,
   "metadata": {
    "colab": {
     "base_uri": "https://localhost:8080/"
    },
    "executionInfo": {
     "elapsed": 28,
     "status": "ok",
     "timestamp": 1733886518813,
     "user": {
      "displayName": "SYED NAVEED MAHMOOD",
      "userId": "01909330817276838465"
     },
     "user_tz": -360
    },
    "id": "el2Iqez0kmfD",
    "outputId": "766d9ef5-fc25-4a6e-ed6f-f8a0247c7c70"
   },
   "outputs": [
    {
     "name": "stdout",
     "output_type": "stream",
     "text": [
      "==============Test Case 1=============\n",
      "Original Conga Line:  10-->15-->34-->41-->56-->72\n",
      "\n",
      "True\n",
      "Accepted\n",
      "\n",
      "==============Test Case 2=============\n",
      "Original Conga Line:  10-->15-->44-->41-->56-->72\n",
      "\n",
      "False\n",
      "Accepted\n",
      "\n"
     ]
    }
   ],
   "source": [
    "def assemble_conga_line(conga_line):\n",
    "    temp = conga_line\n",
    "    flag = True\n",
    "    while temp.next != None :\n",
    "        if temp.elem < temp.next.elem :\n",
    "            flag = True\n",
    "        else:\n",
    "            return False\n",
    "        temp = temp.next\n",
    "    if flag == True:\n",
    "        return True\n",
    "\n",
    "\n",
    "\n",
    "print('==============Test Case 1=============')\n",
    "conga_line = createList(np.array([10,15,34,41,56,72]))\n",
    "print('Original Conga Line: ', end = ' ')\n",
    "printLinkedList(conga_line)\n",
    "returned_value = assemble_conga_line(conga_line)\n",
    "print(returned_value) #This should print True\n",
    "unittest.output_test(returned_value, True)\n",
    "print()\n",
    "print('==============Test Case 2=============')\n",
    "conga_line = createList(np.array([10,15,44,41,56,72]))\n",
    "print('Original Conga Line: ', end = ' ')\n",
    "printLinkedList(conga_line)\n",
    "returned_value = assemble_conga_line(conga_line)\n",
    "print(returned_value) #This should print False\n",
    "unittest.output_test(returned_value, False)\n",
    "print()"
   ]
  },
  {
   "cell_type": "markdown",
   "metadata": {
    "id": "iD_ytSvbloPy"
   },
   "source": [
    "Task 4: Word Decoder"
   ]
  },
  {
   "cell_type": "code",
   "execution_count": 7,
   "metadata": {
    "colab": {
     "base_uri": "https://localhost:8080/"
    },
    "executionInfo": {
     "elapsed": 25,
     "status": "ok",
     "timestamp": 1733886518814,
     "user": {
      "displayName": "SYED NAVEED MAHMOOD",
      "userId": "01909330817276838465"
     },
     "user_tz": -360
    },
    "id": "PU6PxoNllxdf",
    "outputId": "6f9c1028-7b98-4bdb-d01f-961bda3c4374"
   },
   "outputs": [
    {
     "name": "stdout",
     "output_type": "stream",
     "text": [
      "==============Test Case 1=============\n",
      "Encoded Word:\n",
      "B-->M-->D-->T-->N-->O-->A-->P-->S-->C\n",
      "\n",
      "Decoded Word:\n",
      "None-->C-->A-->T\n",
      "\n",
      "==============Test Case 2=============\n",
      "Encoded Word:\n",
      "Z-->O-->T-->N-->X\n",
      "\n",
      "Decoded Word:\n",
      "None-->N\n",
      "\n"
     ]
    }
   ],
   "source": [
    "def word_Decoder(head):\n",
    "    temp = head\n",
    "    count = 0\n",
    "    while temp.next is not None:\n",
    "        count += 1\n",
    "        temp = temp.next\n",
    "    hash = 13 % 10\n",
    "    hash_array = np.empty(hash + 1, dtype=object)\n",
    "\n",
    "    idx = 0\n",
    "    count2 = 0\n",
    "    temp2 = head\n",
    "    while temp2 is not None:\n",
    "        if count2 % hash == 0 and count2 != 0:\n",
    "            hash_array[idx] = temp2.elem\n",
    "            idx += 1\n",
    "        count2 += 1\n",
    "        temp2 = temp2.next\n",
    "\n",
    "    hash_array1 = np.empty(idx+1, dtype=object)\n",
    "    for i in range(idx):\n",
    "        hash_array1[idx - i] = hash_array[i]\n",
    "\n",
    "    return createList(hash_array1)\n",
    "\n",
    "\n",
    "#Driver Code\n",
    "print('==============Test Case 1=============')\n",
    "head = createList(np.array(['B', 'M', 'D', 'T', 'N', 'O', 'A', 'P', 'S', 'C']))\n",
    "print(\"Encoded Word:\")\n",
    "printLinkedList(head) #This should print B→M→D→T→N→O→A→P→S→C\n",
    "\n",
    "result = word_Decoder(head)\n",
    "print(\"Decoded Word:\")\n",
    "printLinkedList(result)    #This should print None→C→A→T\n",
    "\n",
    "print('==============Test Case 2=============')\n",
    "\n",
    "head = createList(np.array(['Z', 'O', 'T', 'N', 'X']))\n",
    "print(\"Encoded Word:\")\n",
    "printLinkedList(head) #This should print Z→O→T→N→X\n",
    "\n",
    "result = word_Decoder(head)\n",
    "print(\"Decoded Word:\")\n",
    "printLinkedList(result)    #This should print None→N\n",
    "\n"
   ]
  },
  {
   "cell_type": "markdown",
   "metadata": {
    "id": "KH4qPwI-nIN4"
   },
   "source": [
    "Task 5: Alternate Merge"
   ]
  },
  {
   "cell_type": "code",
   "execution_count": 8,
   "metadata": {
    "colab": {
     "base_uri": "https://localhost:8080/"
    },
    "executionInfo": {
     "elapsed": 24,
     "status": "ok",
     "timestamp": 1733886518816,
     "user": {
      "displayName": "SYED NAVEED MAHMOOD",
      "userId": "01909330817276838465"
     },
     "user_tz": -360
    },
    "id": "0D7bZtp1nMRI",
    "outputId": "9768e17b-2170-4e08-fe5e-dfed7e8e573f"
   },
   "outputs": [
    {
     "name": "stdout",
     "output_type": "stream",
     "text": [
      "==============Test Case 1=============\n",
      "Linked List 1:\n",
      "1-->2-->6-->8-->11\n",
      "\n",
      "Linked List 2:\n",
      "5-->7-->3-->9-->4\n",
      "\n",
      "Merged Linked List:\n",
      "1-->5-->2-->7-->6-->3-->8-->9-->11-->4\n",
      "\n",
      "==============Test Case 2=============\n",
      "Linked List 1:\n",
      "5-->3-->2-->-4\n",
      "\n",
      "Linked List 2:\n",
      "-4-->-6-->1\n",
      "\n",
      "Merged Linked List:\n",
      "5-->-4-->3-->-6-->2-->1-->-4\n",
      "\n",
      "==============Test Case 3=============\n",
      "Linked List 1:\n",
      "4-->2-->-2-->-4\n",
      "\n",
      "Linked List 2:\n",
      "8-->6-->5-->-3\n",
      "\n",
      "Merged Linked List:\n",
      "4-->8-->2-->6-->-2-->5-->-4-->-3\n",
      "\n"
     ]
    }
   ],
   "source": [
    "def alternate_merge(head1, head2):\n",
    "  if not head1:\n",
    "    return head2\n",
    "  if not head2:\n",
    "    return head1\n",
    "\n",
    "  head = head1\n",
    "  head1 = head1.next\n",
    "  tail = head\n",
    "  tail.next = head2\n",
    "  head2 = head2.next\n",
    "  tail = tail.next\n",
    "\n",
    "  while head1 and head2:\n",
    "    tail.next = head1\n",
    "    head1 = head1.next\n",
    "    tail = tail.next\n",
    "    tail.next = head2\n",
    "    head2 = head2.next\n",
    "    tail = tail.next\n",
    "\n",
    "  if head1:\n",
    "    tail.next = head1\n",
    "  if head2:\n",
    "    tail.next = head2\n",
    "\n",
    "  return head\n",
    "\n",
    "\n",
    "print('==============Test Case 1=============')\n",
    "head1 = createList(np.array([1,2,6,8,11]))\n",
    "head2 = createList(np.array([5,7,3,9,4]))\n",
    "\n",
    "print(\"Linked List 1:\")\n",
    "printLinkedList(head1)\n",
    "print(\"Linked List 2:\")\n",
    "printLinkedList(head2)\n",
    "\n",
    "head = alternate_merge(head1, head2)\n",
    "print(\"Merged Linked List:\")\n",
    "printLinkedList(head)    #This should print    1 --> 5 --> 2 --> 7 --> 6 --> 3 --> 8 --> 9 --> 11 --> 4\n",
    "\n",
    "\n",
    "print('==============Test Case 2=============')\n",
    "head1 = createList(np.array([5, 3, 2, -4]))\n",
    "head2 = createList(np.array([-4, -6, 1]))\n",
    "\n",
    "print(\"Linked List 1:\")\n",
    "printLinkedList(head1)\n",
    "print(\"Linked List 2:\")\n",
    "printLinkedList(head2)\n",
    "\n",
    "head = alternate_merge(head1, head2)\n",
    "print(\"Merged Linked List:\")\n",
    "printLinkedList(head)    #This should print    5 → -4 -> 3 → -6 -> 2 -> 1 -> -4\n",
    "\n",
    "\n",
    "print('==============Test Case 3=============')\n",
    "head1 = createList(np.array([4, 2, -2, -4]))\n",
    "head2 = createList(np.array([8, 6, 5, -3]))\n",
    "\n",
    "print(\"Linked List 1:\")\n",
    "printLinkedList(head1)\n",
    "print(\"Linked List 2:\")\n",
    "printLinkedList(head2)\n",
    "\n",
    "head = alternate_merge(head1, head2)\n",
    "print(\"Merged Linked List:\")\n",
    "printLinkedList(head)    #This should print   4-> 8 → 2-> 6 → -2 → 5 → -4 -> -3\n"
   ]
  },
  {
   "cell_type": "markdown",
   "metadata": {
    "id": "g8b2lKE5o4HE"
   },
   "source": [
    "Task 6: Sum of Nodes"
   ]
  },
  {
   "cell_type": "code",
   "execution_count": 9,
   "metadata": {
    "colab": {
     "base_uri": "https://localhost:8080/"
    },
    "executionInfo": {
     "elapsed": 22,
     "status": "ok",
     "timestamp": 1733886518816,
     "user": {
      "displayName": "SYED NAVEED MAHMOOD",
      "userId": "01909330817276838465"
     },
     "user_tz": -360
    },
    "id": "AeUE5H0so6oP",
    "outputId": "8b14eae4-f4ed-44ec-e6b6-bd612070b6af"
   },
   "outputs": [
    {
     "name": "stdout",
     "output_type": "stream",
     "text": [
      "==============Test Case 1=============\n",
      "Sum of Nodes: 4\n",
      "Accepted\n",
      "\n"
     ]
    }
   ],
   "source": [
    "def sum_dist(head, arr):\n",
    "  sum = 0\n",
    "  for i in arr:\n",
    "    temp = head\n",
    "    for j in range(i):\n",
    "      if temp is not None:\n",
    "        temp = temp.next\n",
    "    if temp is not None:\n",
    "      sum += temp.elem\n",
    "  return sum\n",
    "\n",
    "print('==============Test Case 1=============')\n",
    "LL1 = createList(np.array([10,16,-5,9,3,4]))\n",
    "dist = np.array([2,0,5,2,8])\n",
    "returned_value = sum_dist(LL1, dist)\n",
    "print(f'Sum of Nodes: {returned_value}') #This should print Sum of Nodes: 4\n",
    "unittest.output_test(returned_value, 4)\n",
    "print()\n"
   ]
  },
  {
   "cell_type": "markdown",
   "metadata": {
    "id": "pNihvj0mqZGx"
   },
   "source": [
    "Bonus Task: ID Generator"
   ]
  },
  {
   "cell_type": "code",
   "execution_count": 10,
   "metadata": {
    "colab": {
     "base_uri": "https://localhost:8080/",
     "height": 384
    },
    "executionInfo": {
     "elapsed": 19,
     "status": "error",
     "timestamp": 1733886518816,
     "user": {
      "displayName": "SYED NAVEED MAHMOOD",
      "userId": "01909330817276838465"
     },
     "user_tz": -360
    },
    "id": "RxtRlCVCqcHV",
    "outputId": "f8d29d0a-638a-4ed1-a7a4-058be936cc2f"
   },
   "outputs": [
    {
     "name": "stdout",
     "output_type": "stream",
     "text": [
      "==============Test Case 1=============\n",
      "Linked List 1:\n",
      "0-->3-->2-->2\n",
      "\n",
      "Linked List 2:\n",
      "5-->2-->2-->1\n",
      "\n",
      "Linked List 3:\n",
      "4-->3-->2-->1\n",
      "\n"
     ]
    },
    {
     "ename": "NameError",
     "evalue": "name 'idGenerator' is not defined",
     "output_type": "error",
     "traceback": [
      "\u001b[0;31m---------------------------------------------------------------------------\u001b[0m",
      "\u001b[0;31mNameError\u001b[0m                                 Traceback (most recent call last)",
      "Cell \u001b[0;32mIn[10], line 13\u001b[0m\n\u001b[1;32m     10\u001b[0m \u001b[38;5;28mprint\u001b[39m(\u001b[38;5;124m\"\u001b[39m\u001b[38;5;124mLinked List 3:\u001b[39m\u001b[38;5;124m\"\u001b[39m)\n\u001b[1;32m     11\u001b[0m printLinkedList(head3)\n\u001b[0;32m---> 13\u001b[0m result \u001b[38;5;241m=\u001b[39m \u001b[43midGenerator\u001b[49m(head1, head2, head3)\n\u001b[1;32m     14\u001b[0m \u001b[38;5;28mprint\u001b[39m(\u001b[38;5;124m\"\u001b[39m\u001b[38;5;124mNew ID:\u001b[39m\u001b[38;5;124m\"\u001b[39m)\n\u001b[1;32m     15\u001b[0m printLinkedList(result)    \u001b[38;5;66;03m#This should print  2 → 2 → 3 → 0 → 9 → 5 → 4 → 2\u001b[39;00m\n",
      "\u001b[0;31mNameError\u001b[0m: name 'idGenerator' is not defined"
     ]
    }
   ],
   "source": [
    "\n",
    "\n",
    "print('==============Test Case 1=============')\n",
    "head1 = createList(np.array([0,3,2,2]))\n",
    "head2 = createList(np.array([5,2,2,1]))\n",
    "head3 = createList(np.array([4,3,2,1]))\n",
    "\n",
    "print(\"Linked List 1:\")\n",
    "printLinkedList(head1)\n",
    "print(\"Linked List 2:\")\n",
    "printLinkedList(head2)\n",
    "print(\"Linked List 3:\")\n",
    "printLinkedList(head3)\n",
    "\n",
    "result = idGenerator(head1, head2, head3)\n",
    "print(\"New ID:\")\n",
    "printLinkedList(result)    #This should print  2 → 2 → 3 → 0 → 9 → 5 → 4 → 2\n",
    "\n",
    "\n",
    "print('==============Test Case 2=============')\n",
    "head1 = createList(np.array([0,3,9,1]))\n",
    "head2 = createList(np.array([3,6,5,7]))\n",
    "head3 = createList(np.array([2,4,3,8]))\n",
    "\n",
    "print(\"Linked List 1:\")\n",
    "printLinkedList(head1)\n",
    "print(\"Linked List 2:\")\n",
    "printLinkedList(head2)\n",
    "print(\"Linked List 3:\")\n",
    "printLinkedList(head3)\n",
    "\n",
    "result = idGenerator(head1, head2, head3)\n",
    "print(\"New ID:\")\n",
    "printLinkedList(result)    #This should print 1 → 9 → 3 → 0 → 5 → 0 → 8 → 5"
   ]
  },
  {
   "cell_type": "code",
   "execution_count": null,
   "metadata": {
    "executionInfo": {
     "elapsed": 410,
     "status": "aborted",
     "timestamp": 1733886519211,
     "user": {
      "displayName": "SYED NAVEED MAHMOOD",
      "userId": "01909330817276838465"
     },
     "user_tz": -360
    },
    "id": "7--uKUQer9YB"
   },
   "outputs": [],
   "source": []
  },
  {
   "cell_type": "code",
   "execution_count": null,
   "metadata": {
    "executionInfo": {
     "elapsed": 3,
     "status": "aborted",
     "timestamp": 1733886519212,
     "user": {
      "displayName": "SYED NAVEED MAHMOOD",
      "userId": "01909330817276838465"
     },
     "user_tz": -360
    },
    "id": "6984O4qjr9YB"
   },
   "outputs": [],
   "source": []
  }
 ],
 "metadata": {
  "colab": {
   "provenance": []
  },
  "kernelspec": {
   "display_name": "jupiter_n",
   "language": "python",
   "name": "python3"
  },
  "language_info": {
   "codemirror_mode": {
    "name": "ipython",
    "version": 3
   },
   "file_extension": ".py",
   "mimetype": "text/x-python",
   "name": "python",
   "nbconvert_exporter": "python",
   "pygments_lexer": "ipython3",
   "version": "3.12.7"
  }
 },
 "nbformat": 4,
 "nbformat_minor": 0
}
