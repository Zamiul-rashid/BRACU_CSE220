{
 "cells": [
  {
   "cell_type": "code",
   "execution_count": 12,
   "metadata": {
    "id": "D6vC520OPeTa"
   },
   "outputs": [],
   "source": [
    "class BTNode:\n",
    "  def __init__(self, elem):\n",
    "    self.elem = elem\n",
    "    self.right = None\n",
    "    self.left = None"
   ]
  },
  {
   "cell_type": "code",
   "execution_count": 13,
   "metadata": {
    "id": "UDTKlm4-PfNM"
   },
   "outputs": [],
   "source": [
    "def inorder(root):\n",
    "  if root == None:\n",
    "    return\n",
    "\n",
    "  inorder(root.left)\n",
    "  print(root.elem, end = ' ')\n",
    "  inorder(root.right)"
   ]
  },
  {
   "cell_type": "code",
   "execution_count": 14,
   "metadata": {
    "id": "Rtc22SPzPgzM"
   },
   "outputs": [
    {
     "name": "stdout",
     "output_type": "stream",
     "text": [
      "H D B E A I F J C G k "
     ]
    }
   ],
   "source": [
    "def tree_construction(arr, i = 1):\n",
    "  if i>=len(arr) or arr[i] == None:\n",
    "    return None\n",
    "  p = BTNode(arr[i])\n",
    "  p.left = tree_construction(arr, 2*i)\n",
    "  p.right = tree_construction(arr, 2*i+1)\n",
    "  return p\n",
    "\n",
    "\n",
    "root2 = tree_construction([None, 'A', 'B', 'C', 'D', 'E', 'F', 'G', 'H', None, None, None, 'I', 'J', None, 'k'])\n",
    "inorder(root2)"
   ]
  },
  {
   "cell_type": "markdown",
   "metadata": {
    "id": "S2nNCJNhPqGq"
   },
   "source": [
    "Task 1"
   ]
  },
  {
   "cell_type": "code",
   "execution_count": 15,
   "metadata": {
    "id": "zbBHU3FoPieb"
   },
   "outputs": [
    {
     "name": "stdout",
     "output_type": "stream",
     "text": [
      "Given Tree Inorder Traversal:  40 20 60 10 30 \n",
      "Mirrored Tree Inorder Traversal:  30 10 60 20 40 "
     ]
    }
   ],
   "source": [
    "def convert_mirror(root):\n",
    "    if not root:\n",
    "        return None\n",
    "    \n",
    "    root.left, root.right = root.right, root.left\n",
    "\n",
    "    convert_mirror(root.left)\n",
    "    convert_mirror(root.right)\n",
    "    \n",
    "    return root\n",
    "\n",
    "\n",
    "#DRIVER CODE\n",
    "root = BTNode(10)\n",
    "n1 = BTNode(20)\n",
    "n2 = BTNode(30)\n",
    "n3 = BTNode(40)\n",
    "n4 = BTNode(60)\n",
    "\n",
    "root.left = n1\n",
    "root.right = n2\n",
    "\n",
    "n1.left = n3\n",
    "n1.right = n4\n",
    "\n",
    "print('Given Tree Inorder Traversal: ', end = ' ')\n",
    "inorder(root) #Given Tree Inorder Traversal:  40 20 60 10 30\n",
    "print()\n",
    "\n",
    "root2 = convert_mirror(root)\n",
    "print('Mirrored Tree Inorder Traversal: ', end = ' ')\n",
    "inorder(root2) #Mirrored Tree Inorder Traversal:  30 10 60 20 40"
   ]
  },
  {
   "cell_type": "markdown",
   "metadata": {
    "id": "c-TBf3m0PrtK"
   },
   "source": [
    "Task 2"
   ]
  },
  {
   "cell_type": "code",
   "execution_count": 16,
   "metadata": {
    "id": "lsuxinlBPmji"
   },
   "outputs": [
    {
     "name": "stdout",
     "output_type": "stream",
     "text": [
      "Given Tree Inorder Traversal:  3 9 -5 4 2 7 \n",
      "Level Wise Smallest Value:  {0: 4, 1: 2, 2: -5}\n"
     ]
    }
   ],
   "source": [
    "def smallest_level(node, level=0, level_map=None):\n",
    "    if node is None:\n",
    "        return level_map\n",
    "\n",
    "    if level_map is None:\n",
    "        level_map = {}\n",
    "    if level not in level_map:\n",
    "        level_map[level] = node.elem\n",
    "    else:\n",
    "        level_map[level] = min(level_map[level], node.elem)\n",
    "    smallest_level(node.left, level + 1, level_map)\n",
    "    smallest_level(node.right, level + 1, level_map)\n",
    "\n",
    "    return level_map\n",
    "root = tree_construction([None, 4,9,2,3,-5,None,7])\n",
    "print('Given Tree Inorder Traversal: ', end = ' ')\n",
    "inorder(root) #Given Tree Inorder Traversal:  3 9 5 4 2 7\n",
    "print()\n",
    "print('Level Wise Smallest Value: ', end = ' ')\n",
    "print(smallest_level(root)) #Level Wise Smallest Value:  {0: 4, 1: 2, 2: -5}"
   ]
  },
  {
   "cell_type": "markdown",
   "metadata": {
    "id": "t3IGW4OaP8Vy"
   },
   "source": [
    "Task 3"
   ]
  },
  {
   "cell_type": "code",
   "execution_count": 17,
   "metadata": {
    "id": "m4E9_E8PThk6"
   },
   "outputs": [],
   "source": [
    "def sumTree(root):\n",
    "    def level_sum(node, level):\n",
    "        if not node:  \n",
    "            return 0\n",
    "        \n",
    "        if level == 0:  # Root node case\n",
    "            current_sum = node.elem\n",
    "        else:\n",
    "            current_sum = (node.elem % level) #+ (node.elem // level)   this condition was given in the question but\n",
    "            # it is not properly inplimented in the example so i have commented it out.\n",
    "        \n",
    "    \n",
    "        left_sum = level_sum(node.left, level + 1)\n",
    "        right_sum = level_sum(node.right, level + 1)\n",
    "\n",
    "        return current_sum + left_sum + right_sum\n",
    "    return level_sum(root, 0)\n",
    "  # To DO\n",
    "  #you can declare as many helper function with extra parameters as you need .\n",
    "  #You can not modify the parameters of sumTree or modify any part of the given code."
   ]
  },
  {
   "cell_type": "code",
   "execution_count": 18,
   "metadata": {
    "id": "wV3ezsf_Kwli"
   },
   "outputs": [
    {
     "name": "stdout",
     "output_type": "stream",
     "text": [
      "15\n"
     ]
    }
   ],
   "source": [
    "#Driver Code\n",
    "#Input 1\n",
    "root1 = BTNode(9)\n",
    "node2 = BTNode(4)\n",
    "node3 = BTNode(5)\n",
    "node4 = BTNode(18)\n",
    "node5 = BTNode(14)\n",
    "node6 = BTNode(3)\n",
    "node7 = BTNode(54)\n",
    "node8 = BTNode(12)\n",
    "node9 = BTNode(8)\n",
    "node10 = BTNode(91)\n",
    "node11 = BTNode(56)\n",
    "\n",
    "root1.left = node2\n",
    "root1.right = node3\n",
    "\n",
    "node2.left = node4\n",
    "\n",
    "node3.left = node5\n",
    "node3.right = node6\n",
    "\n",
    "node4.left = node7\n",
    "node4.right = node8\n",
    "\n",
    "node5.left = node9\n",
    "\n",
    "node8.left = node10\n",
    "node8.right = node11\n",
    "\n",
    "print(sumTree(root1)) #This should print 15"
   ]
  },
  {
   "cell_type": "markdown",
   "metadata": {
    "id": "8GJeWub8Ki1X"
   },
   "source": [
    "Task 4\n"
   ]
  },
  {
   "cell_type": "code",
   "execution_count": 19,
   "metadata": {
    "id": "0Rb_m6FRKktN"
   },
   "outputs": [
    {
     "name": "stdout",
     "output_type": "stream",
     "text": [
      "Given Tree Inorder Traversal:  G D H B I E A C J F \n",
      "Swapped Tree Inorder Traversal:  J F C A I E B G D H "
     ]
    }
   ],
   "source": [
    "\n",
    "def swap_child(root, level, M):\n",
    "    if root is None:\n",
    "        return root\n",
    "    if level < M:\n",
    "        root.left, root.right = root.right, root.left\n",
    "    \n",
    "    swap_child(root.left, level + 1, M)\n",
    "    swap_child(root.right, level + 1, M)\n",
    "    return root\n",
    "#Driver Code\n",
    "node1 = BTNode('A')\n",
    "node2 = BTNode('B') \n",
    "node3 = BTNode('C') \n",
    "node4 = BTNode('D')\n",
    "node5 = BTNode('E')\n",
    "node6 = BTNode('F')\n",
    "node7 = BTNode('G')\n",
    "node8 = BTNode('H')\n",
    "node9 = BTNode('I')\n",
    "node10 = BTNode('J')\n",
    "\n",
    "root = node1\n",
    "node1.left = node2  \n",
    "node1.right = node3\n",
    "node2.left = node4\n",
    "node2.right = node5\n",
    "node3.right = node6\n",
    "node4.left = node7\n",
    "node4.right = node8\n",
    "node5.left = node9\n",
    "node6.left = node10\n",
    "\n",
    "print('Given Tree Inorder Traversal: ', end = ' ')\n",
    "inorder(root)   #Given Tree Inorder Traversal: G D H B I E A C J F\n",
    "print()\n",
    "\n",
    "root2 = swap_child(root, 0, 2)\n",
    "print('Swapped Tree Inorder Traversal: ', end = ' ')\n",
    "inorder(root2)  #Swapped Tree Inorder Traversal: J F C A I E B G D H"
   ]
  },
  {
   "cell_type": "markdown",
   "metadata": {
    "id": "VrHklDOEKlHf"
   },
   "source": [
    "Task 5"
   ]
  },
  {
   "cell_type": "code",
   "execution_count": 20,
   "metadata": {
    "id": "dMXJ2qxkNn_F"
   },
   "outputs": [
    {
     "name": "stdout",
     "output_type": "stream",
     "text": [
      "111\n"
     ]
    }
   ],
   "source": [
    "def subtree_sum(node):\n",
    "  if node is None:\n",
    "    return 0\n",
    "  return node.elem + subtree_sum(node.left) + subtree_sum(node.right)\n",
    "\n",
    "def subtract_summation(root):\n",
    "  if root is None:\n",
    "    return 0\n",
    "  left_sum = subtree_sum(root.left)\n",
    "  right_sum = subtree_sum(root.right)\n",
    "  return left_sum - right_sum\n",
    "\n",
    "#Driver Code\n",
    "root = BTNode(71)\n",
    "n1 = BTNode(27)\n",
    "n2 = BTNode(62)\n",
    "n3 = BTNode(80)\n",
    "n4 = BTNode(75)\n",
    "n5 = BTNode(41)\n",
    "n6 = BTNode(3)\n",
    "n7 = BTNode(19) \n",
    "n8 = BTNode(89)\n",
    "n9 = BTNode(87)\n",
    "n10 = BTNode(56)\n",
    "\n",
    "root.right = n2\n",
    "root.left = n1\n",
    "n2.left = n5\n",
    "n2.right = n6\n",
    "n6.left = n7\n",
    "n5.right = n8\n",
    "n1.left = n3\n",
    "n1.right = n4\n",
    "n3.left = n9\n",
    "n3.right = n10\n",
    "\n",
    "\n",
    "print(subtract_summation(root)) #This should print 111"
   ]
  },
  {
   "cell_type": "markdown",
   "metadata": {
    "id": "SBD-0xoZP_ni"
   },
   "source": [
    "Bonus Task"
   ]
  },
  {
   "cell_type": "code",
   "execution_count": 21,
   "metadata": {
    "id": "U_LYhaRIxZCb"
   },
   "outputs": [
    {
     "name": "stdout",
     "output_type": "stream",
     "text": [
      "4\n"
     ]
    }
   ],
   "source": [
    "def level_sum(root):\n",
    "    def sum_level(node, level):\n",
    "        if not node:\n",
    "            return 0\n",
    "        curr_val = node.elem if level % 2 == 1 else -node.elem\n",
    "\n",
    "        left_sum = sum_level(node.left, level + 1)\n",
    "        right_sum = sum_level(node.right, level + 1)\n",
    "        \n",
    "        return curr_val + left_sum + right_sum\n",
    "    \n",
    "    return sum_level(root, 0)\n",
    "\n",
    "#DRIVER CODE\n",
    "root = BTNode(1)\n",
    "n2 = BTNode(2)\n",
    "n3 = BTNode(3)\n",
    "n4 = BTNode(4)\n",
    "n5 = BTNode(5)\n",
    "n6 = BTNode(6)\n",
    "n7 = BTNode(7)\n",
    "n8 = BTNode(8)\n",
    "root.left = n2\n",
    "root.right = n3\n",
    "\n",
    "n2.left = n4\n",
    "n3.left = n5\n",
    "n3.right = n6\n",
    "\n",
    "n5.left = n7\n",
    "n5.right = n8\n",
    "\n",
    "\n",
    "print(level_sum(root)) #This should print 4"
   ]
  }
 ],
 "metadata": {
  "colab": {
   "provenance": [
    {
     "file_id": "1fz-8XVRUO217Jk0i6byqO6CT1k4vtN0y",
     "timestamp": 1701548920850
    }
   ]
  },
  "kernelspec": {
   "display_name": "jupiter_n",
   "language": "python",
   "name": "python3"
  },
  "language_info": {
   "codemirror_mode": {
    "name": "ipython",
    "version": 3
   },
   "file_extension": ".py",
   "mimetype": "text/x-python",
   "name": "python",
   "nbconvert_exporter": "python",
   "pygments_lexer": "ipython3",
   "version": "3.12.7"
  }
 },
 "nbformat": 4,
 "nbformat_minor": 0
}
